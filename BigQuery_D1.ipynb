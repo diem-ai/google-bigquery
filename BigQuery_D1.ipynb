{
 "cells": [
  {
   "cell_type": "markdown",
   "metadata": {},
   "source": [
    "# Introduction\n",
    "\n",
    "The first test of your new data exploration skills uses data describing crime in the city of Chicago.\n",
    "\n",
    "Before you get started, run the following cell. It sets up the automated feedback system to review your answers."
   ]
  },
  {
   "cell_type": "code",
   "execution_count": 49,
   "metadata": {},
   "outputs": [
    {
     "name": "stdout",
     "output_type": "stream",
     "text": [
      "Setup Complete\n"
     ]
    }
   ],
   "source": [
    "# Set up feedack system\n",
    "from learntools.core import binder\n",
    "binder.bind(globals())\n",
    "from learntools.sql.ex1 import *\n",
    "print(\"Setup Complete\")"
   ]
  },
  {
   "cell_type": "markdown",
   "metadata": {},
   "source": [
    "Use the next code cell to fetch the dataset."
   ]
  },
  {
   "cell_type": "code",
   "execution_count": 50,
   "metadata": {},
   "outputs": [
    {
     "name": "stdout",
     "output_type": "stream",
     "text": [
      "Using Kaggle's public dataset BigQuery integration.\n",
      "Is dataset found ? True\n"
     ]
    }
   ],
   "source": [
    "from google.cloud import bigquery\n",
    "\n",
    "# Create a \"Client\" object\n",
    "client = bigquery.Client()\n",
    "\n",
    "# Construct a reference to the \"chicago_crime\" dataset\n",
    "dataset_ref = client.dataset(\"chicago_crime\", project=\"bigquery-public-data\")\n",
    "\n",
    "# API request - fetch the dataset\n",
    "dataset = client.get_dataset(dataset_ref)\n",
    "\n",
    "print(\"Is dataset found ? {}\".format(dataset != None))"
   ]
  },
  {
   "cell_type": "markdown",
   "metadata": {},
   "source": [
    "\n",
    "### 1) Count tables in the dataset\n",
    "\n",
    "How many tables are in the Chicago Crime dataset?"
   ]
  },
  {
   "cell_type": "code",
   "execution_count": 51,
   "metadata": {},
   "outputs": [],
   "source": [
    "# Write the code you need here to figure out the answer\n",
    "tables = list(client.list_tables(dataset))\n"
   ]
  },
  {
   "cell_type": "code",
   "execution_count": 52,
   "metadata": {},
   "outputs": [
    {
     "name": "stdout",
     "output_type": "stream",
     "text": [
      "Number of table in dataset: 1\n"
     ]
    },
    {
     "data": {
      "application/javascript": [
       "parent.postMessage({\"jupyterEvent\": \"custom.exercise_interaction\", \"data\": {\"outcomeType\": 1, \"valueTowardsCompletion\": 0.3333333333333333, \"interactionType\": 1, \"questionType\": 1, \"learnTutorialId\": 169, \"questionId\": \"1_CountTables\", \"learnToolsVersion\": \"0.3.0\", \"failureMessage\": \"\", \"exceptionClass\": \"\", \"trace\": \"\"}}, \"*\")"
      ],
      "text/plain": [
       "<IPython.core.display.Javascript object>"
      ]
     },
     "metadata": {},
     "output_type": "display_data"
    },
    {
     "data": {
      "text/markdown": [
       "<span style=\"color:#33cc33\">Correct</span>"
      ],
      "text/plain": [
       "Correct"
      ]
     },
     "metadata": {},
     "output_type": "display_data"
    }
   ],
   "source": [
    "num_tables = len(tables)\n",
    "\n",
    "print(\"Number of table in dataset: {}\".format(num_tables))\n",
    "\n",
    "q_1.check()"
   ]
  },
  {
   "cell_type": "markdown",
   "metadata": {},
   "source": [
    "### 2) Explore the table schema\n",
    "\n",
    "How many columns in the `crime` table have `TIMESTAMP` data?"
   ]
  },
  {
   "cell_type": "code",
   "execution_count": 54,
   "metadata": {},
   "outputs": [
    {
     "name": "stdout",
     "output_type": "stream",
     "text": [
      "Is crime table found ? : True\n",
      "Field name of columns whose data type is timestamp: ['date', 'updated_on']\n"
     ]
    }
   ],
   "source": [
    "# Construct a reference to the \"full\" table\n",
    "tbl_crime_ref = dataset_ref.table(\"crime\")\n",
    "\n",
    "# API request - fetch the table\n",
    "tbl_crime = client.get_table(tbl_crime_ref)\n",
    "\n",
    "print(\"Is crime table found ? : {}\".format(tbl_crime != None))\n",
    "\n",
    "tbl_schema = tbl_crime.schema\n",
    "timestamp_fields = [] # keep field name of columns whose data type is timestamp\n",
    "for field in tbl_schema:\n",
    "    if (field.field_type == \"TIMESTAMP\"):\n",
    "        timestamp_fields.append(field.name)\n",
    "\n",
    "print(\"Field name of columns whose data type is timestamp: {}\".format(timestamp_fields))"
   ]
  },
  {
   "cell_type": "code",
   "execution_count": 55,
   "metadata": {},
   "outputs": [
    {
     "data": {
      "application/javascript": [
       "parent.postMessage({\"jupyterEvent\": \"custom.exercise_interaction\", \"data\": {\"outcomeType\": 1, \"valueTowardsCompletion\": 0.3333333333333333, \"interactionType\": 1, \"questionType\": 1, \"learnTutorialId\": 169, \"questionId\": \"2_CountTimestampFields\", \"learnToolsVersion\": \"0.3.0\", \"failureMessage\": \"\", \"exceptionClass\": \"\", \"trace\": \"\"}}, \"*\")"
      ],
      "text/plain": [
       "<IPython.core.display.Javascript object>"
      ]
     },
     "metadata": {},
     "output_type": "display_data"
    },
    {
     "data": {
      "text/markdown": [
       "<span style=\"color:#33cc33\">Correct</span>"
      ],
      "text/plain": [
       "Correct"
      ]
     },
     "metadata": {},
     "output_type": "display_data"
    }
   ],
   "source": [
    "num_timestamp_fields = len(timestamp_fields) # Put your answer here\n",
    "\n",
    "q_2.check()"
   ]
  },
  {
   "cell_type": "markdown",
   "metadata": {},
   "source": [
    "### 3) Create a crime map\n",
    "\n",
    "If you wanted to create a map with a dot at the location of each crime, what are the names of the two fields you likely need to pull out of the `crime` table to plot the crimes on a map?"
   ]
  },
  {
   "cell_type": "code",
   "execution_count": 57,
   "metadata": {},
   "outputs": [
    {
     "name": "stdout",
     "output_type": "stream",
     "text": [
      "   unique_key              ...                                     location\n",
      "0    11719167              ...                                         None\n",
      "1    11682293              ...                (41.973139321, -87.748331889)\n",
      "2    11675601              ...                (41.982270338, -87.806941262)\n",
      "3    11656981              ...                (41.983807384, -87.768323756)\n",
      "4    11654695              ...                (41.717334211, -87.531658377)\n",
      "\n",
      "[5 rows x 22 columns]\n"
     ]
    }
   ],
   "source": [
    "# Preview the first five lines of the \"crime\" table\n",
    "df = client.list_rows(tbl_crime, max_results=200).to_dataframe()\n",
    "\n",
    "print(df.head())\n",
    "\n",
    "\n",
    "#df.head(2)\n",
    "#df[['x_coordinate', 'y_coordinate']]"
   ]
  },
  {
   "cell_type": "code",
   "execution_count": 58,
   "metadata": {},
   "outputs": [
    {
     "name": "stdout",
     "output_type": "stream",
     "text": [
      "     unique_key case_number   ...    longitude location\n",
      "0      11719167    JC302112   ...          NaN     None\n",
      "37     11414018    JB393447   ...          NaN     None\n",
      "100    10926657    JA239847   ...          NaN     None\n",
      "102    10298034    HY464797   ...          NaN     None\n",
      "106    10234106    HY422465   ...          NaN     None\n",
      "150    11695638    JC273470   ...          NaN     None\n",
      "\n",
      "[6 rows x 22 columns]\n"
     ]
    }
   ],
   "source": [
    "print(df[df['x_coordinate'].isnull()])"
   ]
  },
  {
   "cell_type": "code",
   "execution_count": 59,
   "metadata": {},
   "outputs": [
    {
     "name": "stdout",
     "output_type": "stream",
     "text": [
      "     unique_key case_number   ...    longitude location\n",
      "0      11719167    JC302112   ...          NaN     None\n",
      "37     11414018    JB393447   ...          NaN     None\n",
      "100    10926657    JA239847   ...          NaN     None\n",
      "102    10298034    HY464797   ...          NaN     None\n",
      "106    10234106    HY422465   ...          NaN     None\n",
      "150    11695638    JC273470   ...          NaN     None\n",
      "\n",
      "[6 rows x 22 columns]\n"
     ]
    }
   ],
   "source": [
    "print(df[df['y_coordinate'].isnull()])"
   ]
  },
  {
   "cell_type": "markdown",
   "metadata": {},
   "source": [
    "2 rows with index of 0 and 37 have nan.\n"
   ]
  },
  {
   "cell_type": "code",
   "execution_count": 60,
   "metadata": {},
   "outputs": [],
   "source": [
    "# select x_coordinate & y_coordinate & eliminate NaN\n",
    "\n",
    "df_cor = df[['x_coordinate', 'y_coordinate']]\n",
    "\n",
    "df_cor = df_cor.dropna()\n"
   ]
  },
  {
   "cell_type": "code",
   "execution_count": 61,
   "metadata": {},
   "outputs": [
    {
     "data": {
      "image/png": "[encoded data removed]",
      "text/plain": [
       "<Figure size 432x288 with 1 Axes>"
      ]
     },
     "metadata": {
      "needs_background": "light"
     },
     "output_type": "display_data"
    }
   ],
   "source": [
    "import matplotlib.pyplot as plt\n",
    "\n",
    "plt.scatter(x=df_cor['x_coordinate'], y=df_cor['y_coordinate'])\n",
    "plt.xlabel('x_coordinate')\n",
    "plt.ylabel('y_coordinate')\n",
    "plt.show()"
   ]
  },
  {
   "cell_type": "code",
   "execution_count": 62,
   "metadata": {},
   "outputs": [
    {
     "name": "stdout",
     "output_type": "stream",
     "text": [
      "`'latitude'` and `'longitude'` would be better and more standard than `'x_coordinate'` and `'y_coordinate'`, but this might work.\n"
     ]
    },
    {
     "data": {
      "application/javascript": [
       "parent.postMessage({\"jupyterEvent\": \"custom.exercise_interaction\", \"data\": {\"outcomeType\": 1, \"valueTowardsCompletion\": 0.3333333333333333, \"interactionType\": 1, \"questionType\": 2, \"learnTutorialId\": 169, \"questionId\": \"3_IdentifyFieldsForPlotting\", \"learnToolsVersion\": \"0.3.0\", \"failureMessage\": \"\", \"exceptionClass\": \"\", \"trace\": \"\"}}, \"*\")"
      ],
      "text/plain": [
       "<IPython.core.display.Javascript object>"
      ]
     },
     "metadata": {},
     "output_type": "display_data"
    },
    {
     "data": {
      "text/markdown": [
       "<span style=\"color:#33cc33\">Correct</span>"
      ],
      "text/plain": [
       "Correct"
      ]
     },
     "metadata": {},
     "output_type": "display_data"
    }
   ],
   "source": [
    "fields_for_plotting = ['x_coordinate', 'y_coordinate'] # Put your answers here\n",
    "\n",
    "q_3.check()"
   ]
  },
  {
   "cell_type": "markdown",
   "metadata": {},
   "source": [
    "Thinking about the question above, there are a few columns that appear to have geographic data. Look at a few values (with the `list_rows()` command) to see if you can determine their relationship.  Two columns will still be hard to interpret. But it should be obvious how the `location` column relates to `latitude` and `longitude`."
   ]
  },
  {
   "cell_type": "code",
   "execution_count": 64,
   "metadata": {},
   "outputs": [
    {
     "data": {
      "text/html": [
       "<div>\n",
       "<style scoped>\n",
       "    .dataframe tbody tr th:only-of-type {\n",
       "        vertical-align: middle;\n",
       "    }\n",
       "\n",
       "    .dataframe tbody tr th {\n",
       "        vertical-align: top;\n",
       "    }\n",
       "\n",
       "    .dataframe thead th {\n",
       "        text-align: right;\n",
       "    }\n",
       "</style>\n",
       "<table border=\"1\" class=\"dataframe\">\n",
       "  <thead>\n",
       "    <tr style=\"text-align: right;\">\n",
       "      <th></th>\n",
       "      <th>unique_key</th>\n",
       "      <th>case_number</th>\n",
       "      <th>date</th>\n",
       "      <th>block</th>\n",
       "      <th>iucr</th>\n",
       "      <th>primary_type</th>\n",
       "      <th>description</th>\n",
       "      <th>location_description</th>\n",
       "      <th>arrest</th>\n",
       "      <th>domestic</th>\n",
       "      <th>beat</th>\n",
       "      <th>district</th>\n",
       "      <th>ward</th>\n",
       "      <th>community_area</th>\n",
       "      <th>fbi_code</th>\n",
       "      <th>x_coordinate</th>\n",
       "      <th>y_coordinate</th>\n",
       "      <th>year</th>\n",
       "      <th>updated_on</th>\n",
       "      <th>latitude</th>\n",
       "      <th>longitude</th>\n",
       "      <th>location</th>\n",
       "    </tr>\n",
       "  </thead>\n",
       "  <tbody>\n",
       "    <tr>\n",
       "      <th>0</th>\n",
       "      <td>11719167</td>\n",
       "      <td>JC302112</td>\n",
       "      <td>2019-06-06 09:00:00+00:00</td>\n",
       "      <td>092XX S YATES BLVD</td>\n",
       "      <td>1154</td>\n",
       "      <td>DECEPTIVE PRACTICE</td>\n",
       "      <td>FINANCIAL IDENTITY THEFT $300 AND UNDER</td>\n",
       "      <td>OTHER</td>\n",
       "      <td>False</td>\n",
       "      <td>False</td>\n",
       "      <td>423</td>\n",
       "      <td>4</td>\n",
       "      <td>7</td>\n",
       "      <td>48</td>\n",
       "      <td>11</td>\n",
       "      <td>NaN</td>\n",
       "      <td>NaN</td>\n",
       "      <td>2019</td>\n",
       "      <td>2019-06-13 16:12:38+00:00</td>\n",
       "      <td>NaN</td>\n",
       "      <td>NaN</td>\n",
       "      <td>None</td>\n",
       "    </tr>\n",
       "    <tr>\n",
       "      <th>1</th>\n",
       "      <td>11682293</td>\n",
       "      <td>JC257010</td>\n",
       "      <td>2019-05-09 22:00:00+00:00</td>\n",
       "      <td>050XX N ELSTON AVE</td>\n",
       "      <td>0530</td>\n",
       "      <td>ASSAULT</td>\n",
       "      <td>AGGRAVATED: OTHER DANG WEAPON</td>\n",
       "      <td>GAS STATION</td>\n",
       "      <td>False</td>\n",
       "      <td>True</td>\n",
       "      <td>1623</td>\n",
       "      <td>16</td>\n",
       "      <td>45</td>\n",
       "      <td>12</td>\n",
       "      <td>04A</td>\n",
       "      <td>1143328.0</td>\n",
       "      <td>1933345.0</td>\n",
       "      <td>2019</td>\n",
       "      <td>2019-05-16 16:08:26+00:00</td>\n",
       "      <td>41.973139</td>\n",
       "      <td>-87.748332</td>\n",
       "      <td>(41.973139321, -87.748331889)</td>\n",
       "    </tr>\n",
       "    <tr>\n",
       "      <th>2</th>\n",
       "      <td>11675601</td>\n",
       "      <td>JC249027</td>\n",
       "      <td>2019-05-04 01:30:00+00:00</td>\n",
       "      <td>055XX N HARLEM AVE</td>\n",
       "      <td>0545</td>\n",
       "      <td>ASSAULT</td>\n",
       "      <td>PRO EMP HANDS NO/MIN INJURY</td>\n",
       "      <td>CTA TRAIN</td>\n",
       "      <td>True</td>\n",
       "      <td>False</td>\n",
       "      <td>1612</td>\n",
       "      <td>16</td>\n",
       "      <td>41</td>\n",
       "      <td>10</td>\n",
       "      <td>08A</td>\n",
       "      <td>1127370.0</td>\n",
       "      <td>1936569.0</td>\n",
       "      <td>2019</td>\n",
       "      <td>2019-05-11 16:19:04+00:00</td>\n",
       "      <td>41.982270</td>\n",
       "      <td>-87.806941</td>\n",
       "      <td>(41.982270338, -87.806941262)</td>\n",
       "    </tr>\n",
       "    <tr>\n",
       "      <th>3</th>\n",
       "      <td>11656981</td>\n",
       "      <td>JC226713</td>\n",
       "      <td>2019-04-16 10:40:00+00:00</td>\n",
       "      <td>056XX N CENTRAL AVE</td>\n",
       "      <td>4388</td>\n",
       "      <td>OTHER OFFENSE</td>\n",
       "      <td>VIO BAIL BOND: DOM VIOLENCE</td>\n",
       "      <td>HOSPITAL BUILDING/GROUNDS</td>\n",
       "      <td>True</td>\n",
       "      <td>True</td>\n",
       "      <td>1623</td>\n",
       "      <td>16</td>\n",
       "      <td>45</td>\n",
       "      <td>11</td>\n",
       "      <td>26</td>\n",
       "      <td>1137866.0</td>\n",
       "      <td>1937196.0</td>\n",
       "      <td>2019</td>\n",
       "      <td>2019-04-23 16:22:49+00:00</td>\n",
       "      <td>41.983807</td>\n",
       "      <td>-87.768324</td>\n",
       "      <td>(41.983807384, -87.768323756)</td>\n",
       "    </tr>\n",
       "    <tr>\n",
       "      <th>4</th>\n",
       "      <td>11654695</td>\n",
       "      <td>JC223942</td>\n",
       "      <td>2019-04-14 04:14:00+00:00</td>\n",
       "      <td>098XX S AVENUE G</td>\n",
       "      <td>2028</td>\n",
       "      <td>NARCOTICS</td>\n",
       "      <td>POSS: SYNTHETIC DRUGS</td>\n",
       "      <td>PARK PROPERTY</td>\n",
       "      <td>True</td>\n",
       "      <td>False</td>\n",
       "      <td>432</td>\n",
       "      <td>4</td>\n",
       "      <td>10</td>\n",
       "      <td>52</td>\n",
       "      <td>18</td>\n",
       "      <td>1203118.0</td>\n",
       "      <td>1840607.0</td>\n",
       "      <td>2019</td>\n",
       "      <td>2019-04-21 16:07:03+00:00</td>\n",
       "      <td>41.717334</td>\n",
       "      <td>-87.531658</td>\n",
       "      <td>(41.717334211, -87.531658377)</td>\n",
       "    </tr>\n",
       "  </tbody>\n",
       "</table>\n",
       "</div>"
      ],
      "text/plain": [
       "   unique_key              ...                                     location\n",
       "0    11719167              ...                                         None\n",
       "1    11682293              ...                (41.973139321, -87.748331889)\n",
       "2    11675601              ...                (41.982270338, -87.806941262)\n",
       "3    11656981              ...                (41.983807384, -87.768323756)\n",
       "4    11654695              ...                (41.717334211, -87.531658377)\n",
       "\n",
       "[5 rows x 22 columns]"
      ]
     },
     "execution_count": 64,
     "metadata": {},
     "output_type": "execute_result"
    }
   ],
   "source": [
    "df.head()"
   ]
  },
  {
   "cell_type": "code",
   "execution_count": 70,
   "metadata": {},
   "outputs": [
    {
     "data": {
      "image/png": "[encoded data removed]",
      "text/plain": [
       "<Figure size 432x288 with 1 Axes>"
      ]
     },
     "metadata": {
      "needs_background": "light"
     },
     "output_type": "display_data"
    }
   ],
   "source": [
    "df_loc = df[['latitude', 'longitude']]\n",
    "\n",
    "df_loc = df_loc.dropna()\n",
    "\n",
    "plt.scatter(x = df_loc['latitude'], y = df_loc['longitude'])\n",
    "plt.show()"
   ]
  },
  {
   "cell_type": "markdown",
   "metadata": {},
   "source": [
    "# Keep going\n",
    "\n",
    "You've looked at the schema, but you haven't yet done anything exciting with the data itself. Things get more interesting when you get to the data, so keep going to **[write your first SQL query](https://www.kaggle.com/dansbecker/select-from-where).**"
   ]
  },
  {
   "cell_type": "markdown",
   "metadata": {},
   "source": [
    "---\n",
    "**[SQL Micro-Course Home Page](https://www.kaggle.com/learn/intro-to-sql)**\n",
    "\n"
   ]
  }
 ],
 "metadata": {
  "kernelspec": {
   "display_name": "Python 3",
   "language": "python",
   "name": "python3"
  },
  "language_info": {
   "codemirror_mode": {
    "name": "ipython",
    "version": 3
   },
   "file_extension": ".py",
   "mimetype": "text/x-python",
   "name": "python",
   "nbconvert_exporter": "python",
   "pygments_lexer": "ipython3",
   "version": "3.7.0"
  }
 },
 "nbformat": 4,
 "nbformat_minor": 1
}
